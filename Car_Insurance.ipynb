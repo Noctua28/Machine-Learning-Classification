{
  "nbformat": 4,
  "nbformat_minor": 0,
  "metadata": {
    "colab": {
      "provenance": [],
      "mount_file_id": "16x7_S8MUNQternHceGKaeVJBeSVihc6g",
      "authorship_tag": "ABX9TyNhQ9CWpN5/pNYy4Ub/piCr",
      "include_colab_link": true
    },
    "kernelspec": {
      "name": "python3",
      "display_name": "Python 3"
    },
    "language_info": {
      "name": "python"
    }
  },
  "cells": [
    {
      "cell_type": "markdown",
      "metadata": {
        "id": "view-in-github",
        "colab_type": "text"
      },
      "source": [
        "<a href=\"https://colab.research.google.com/github/Noctua28/Machine-Learning-Classification/blob/main/Car_Insurance.ipynb\" target=\"_parent\"><img src=\"https://colab.research.google.com/assets/colab-badge.svg\" alt=\"Open In Colab\"/></a>"
      ]
    },
    {
      "cell_type": "markdown",
      "source": [
        "## Data Source: \n",
        "\n",
        "### [Care Insurance](https://www.kaggle.com/datasets/sagnik1511/car-insurance-data?resource=download) by SAGNIK ROY in Kaggle\n"
      ],
      "metadata": {
        "id": "0Jl3o_w2d_oW"
      }
    },
    {
      "cell_type": "markdown",
      "source": [
        "## Data Description: \n",
        "\n",
        "The provided car insurance dataset consists of 19 columns, where 18 columns represent various log data collected by the company, and the remaining column, called the \"outcome\" column, indicates whether a customer has claimed their loan or not. The outcome column has binary values, with 1 representing a customer who has claimed the loan and 0 representing a customer who hasn't."
      ],
      "metadata": {
        "id": "cWm_v9W0e4v2"
      }
    },
    {
      "cell_type": "markdown",
      "source": [
        "## Target:\n",
        "\n",
        "The target in the provided car insurance dataset is indicated by the \"outcome\" column. This column represents whether a customer has claimed their loan or not. It is a binary target variable, where the value 1 indicates that a customer has claimed the loan, and the value 0 indicates that a customer has not claimed the loan."
      ],
      "metadata": {
        "id": "aBBHuX1sfLSR"
      }
    },
    {
      "cell_type": "markdown",
      "source": [
        "# Regression or Classification?\n",
        "\n",
        "This is a classification problem. The target in the provided car insurance dataset is indicated by the \"outcome\" column. This column represents whether a customer has claimed their loan or not. It is a binary target variable, where the value 1 indicates that a customer has claimed the loan, and the value 0 indicates that a customer has not claimed the loan."
      ],
      "metadata": {
        "id": "xISp-qvQfYKY"
      }
    },
    {
      "cell_type": "markdown",
      "source": [
        "## Loading Dataset:"
      ],
      "metadata": {
        "id": "mpVDvdoOfe8u"
      }
    },
    {
      "cell_type": "code",
      "source": [
        "# Loading dataset\n",
        "import pandas as pd\n",
        "df = pd.read_csv('/content/drive/MyDrive/Data Science Boot Camp/Machine Learning Introduction/W3 - Classification Models/Car_Insurance_Claim.csv')\n",
        "print(df.head())"
      ],
      "metadata": {
        "colab": {
          "base_uri": "https://localhost:8080/"
        },
        "id": "e0gTl2vRflBV",
        "outputId": "2bb3d2fa-9c03-401b-8d97-5c42b7b70db9"
      },
      "execution_count": 17,
      "outputs": [
        {
          "output_type": "stream",
          "name": "stdout",
          "text": [
            "       ID    AGE  GENDER      RACE DRIVING_EXPERIENCE    EDUCATION  \\\n",
            "0  569520    65+  female  majority               0-9y  high school   \n",
            "1  750365  16-25    male  majority               0-9y         none   \n",
            "2  199901  16-25  female  majority               0-9y  high school   \n",
            "3  478866  16-25    male  majority               0-9y   university   \n",
            "4  731664  26-39    male  majority             10-19y         none   \n",
            "\n",
            "          INCOME  CREDIT_SCORE  VEHICLE_OWNERSHIP VEHICLE_YEAR  MARRIED  \\\n",
            "0    upper class      0.629027                1.0   after 2015      0.0   \n",
            "1        poverty      0.357757                0.0  before 2015      0.0   \n",
            "2  working class      0.493146                1.0  before 2015      0.0   \n",
            "3  working class      0.206013                1.0  before 2015      0.0   \n",
            "4  working class      0.388366                1.0  before 2015      0.0   \n",
            "\n",
            "   CHILDREN  POSTAL_CODE  ANNUAL_MILEAGE VEHICLE_TYPE  SPEEDING_VIOLATIONS  \\\n",
            "0       1.0        10238         12000.0        sedan                    0   \n",
            "1       0.0        10238         16000.0        sedan                    0   \n",
            "2       0.0        10238         11000.0        sedan                    0   \n",
            "3       1.0        32765         11000.0        sedan                    0   \n",
            "4       0.0        32765         12000.0        sedan                    2   \n",
            "\n",
            "   DUIS  PAST_ACCIDENTS  OUTCOME  \n",
            "0     0               0      0.0  \n",
            "1     0               0      1.0  \n",
            "2     0               0      0.0  \n",
            "3     0               0      0.0  \n",
            "4     0               1      1.0  \n"
          ]
        }
      ]
    },
    {
      "cell_type": "code",
      "source": [
        "# How many features does it have? \n",
        "num_features = df.shape[1]\n",
        "print(\"Number of Features\", num_features)"
      ],
      "metadata": {
        "colab": {
          "base_uri": "https://localhost:8080/"
        },
        "id": "gadWUed2folY",
        "outputId": "6970b694-2258-4775-ab52-47b49e66a8b5"
      },
      "execution_count": 18,
      "outputs": [
        {
          "output_type": "stream",
          "name": "stdout",
          "text": [
            "Number of Features 19\n"
          ]
        }
      ]
    },
    {
      "cell_type": "code",
      "source": [
        "# How many rows are in the dataset?\n",
        "num_rows = df.shape[0]\n",
        "print(\"Number of rows\", num_rows)"
      ],
      "metadata": {
        "colab": {
          "base_uri": "https://localhost:8080/"
        },
        "id": "ZEmoAjU7frdf",
        "outputId": "4d7b5dbd-9301-468f-ef52-9f31c5714cde"
      },
      "execution_count": 19,
      "outputs": [
        {
          "output_type": "stream",
          "name": "stdout",
          "text": [
            "Number of rows 10000\n"
          ]
        }
      ]
    },
    {
      "cell_type": "markdown",
      "source": [
        "## Identifying Potential Challenges with the data & addressing them"
      ],
      "metadata": {
        "id": "MW-LSMzbjJ71"
      }
    },
    {
      "cell_type": "code",
      "source": [
        "import matplotlib.pyplot as plt\n",
        "\n",
        "# Step 1: Delete unnecessary columns\n",
        "unnecessary_columns = ['ID', 'AGE', 'GENDER', 'RACE', 'DRIVING_EXPERIENCE', 'EDUCATION', 'INCOME', 'CREDIT_SCORE', 'VEHICLE_OWNERSHIP', 'MARRIED', 'CHILDREN', 'POSTAL_CODE', 'ANNUAL_MILEAGE', 'VEHICLE_TYPE', 'SPEEDING_VIOLATIONS', 'DUIS', 'PAST_ACCIDENTS', 'OUTCOME']\n",
        "df.drop(unnecessary_columns, axis=1, inplace=True)\n",
        "\n",
        "# Step 2: Delete duplicate rows\n",
        "df.drop_duplicates(inplace=True)\n",
        "\n",
        "# Step 3: Identify and address missing values\n",
        "missing_values = df.isnull().sum()\n",
        "# Decide how to handle missing values (e.g., remove rows, impute values)\n",
        "\n",
        "# Step 4: Identify and correct inconsistencies in categorical values\n",
        "categorical_columns = [col for col in df.columns if df[col].dtype == 'object']\n",
        "df[categorical_columns] = df[categorical_columns].apply(lambda x: x.str.lower())\n",
        "\n",
        "# Step 5: Produce univariate visuals for the target and all features\n",
        "target_column = 'outcome'\n",
        "for column in df.columns:\n",
        "    plt.figure()\n",
        "    if column == target_column:\n",
        "        df[column].value_counts().plot(kind='bar')\n",
        "    else:\n",
        "        df[column].hist()\n",
        "    plt.title(column)\n",
        "    plt.show()\n",
        "\n",
        "# Step 6: Identify outliers\n",
        "numeric_columns = ['column1', 'column2', 'VEHICLE_YEAR']\n",
        "df[numeric_columns] = df[numeric_columns].apply(pd.to_numeric, errors='coerce')\n",
        "\n",
        "for column in numeric_columns:\n",
        "    plt.figure()\n",
        "    df.boxplot(column=column)\n",
        "    plt.title(column)\n",
        "    plt.show()\n",
        "\n",
        "\n",
        "\n",
        "\n"
      ],
      "metadata": {
        "colab": {
          "base_uri": "https://localhost:8080/",
          "height": 816
        },
        "id": "tlgIA615s47r",
        "outputId": "c1cfeb9d-70db-4538-92bf-1a5bedd3520d"
      },
      "execution_count": 20,
      "outputs": [
        {
          "output_type": "display_data",
          "data": {
            "text/plain": [
              "<Figure size 640x480 with 1 Axes>"
            ],
            "image/png": "[encoded data removed]"
          },
          "metadata": {}
        },
        {
          "output_type": "error",
          "ename": "KeyError",
          "evalue": "ignored",
          "traceback": [
            "\u001b[0;31m---------------------------------------------------------------------------\u001b[0m",
            "\u001b[0;31mKeyError\u001b[0m                                  Traceback (most recent call last)",
            "\u001b[0;32m<ipython-input-20-a8d5637f872c>\u001b[0m in \u001b[0;36m<cell line: 31>\u001b[0;34m()\u001b[0m\n\u001b[1;32m     29\u001b[0m \u001b[0;31m# Step 6: Identify outliers\u001b[0m\u001b[0;34m\u001b[0m\u001b[0;34m\u001b[0m\u001b[0m\n\u001b[1;32m     30\u001b[0m \u001b[0mnumeric_columns\u001b[0m \u001b[0;34m=\u001b[0m \u001b[0;34m[\u001b[0m\u001b[0;34m'column1'\u001b[0m\u001b[0;34m,\u001b[0m \u001b[0;34m'column2'\u001b[0m\u001b[0;34m,\u001b[0m \u001b[0;34m'VEHICLE_YEAR'\u001b[0m\u001b[0;34m]\u001b[0m\u001b[0;34m\u001b[0m\u001b[0;34m\u001b[0m\u001b[0m\n\u001b[0;32m---> 31\u001b[0;31m \u001b[0mdf\u001b[0m\u001b[0;34m[\u001b[0m\u001b[0mnumeric_columns\u001b[0m\u001b[0;34m]\u001b[0m \u001b[0;34m=\u001b[0m \u001b[0mdf\u001b[0m\u001b[0;34m[\u001b[0m\u001b[0mnumeric_columns\u001b[0m\u001b[0;34m]\u001b[0m\u001b[0;34m.\u001b[0m\u001b[0mapply\u001b[0m\u001b[0;34m(\u001b[0m\u001b[0mpd\u001b[0m\u001b[0;34m.\u001b[0m\u001b[0mto_numeric\u001b[0m\u001b[0;34m,\u001b[0m \u001b[0merrors\u001b[0m\u001b[0;34m=\u001b[0m\u001b[0;34m'coerce'\u001b[0m\u001b[0;34m)\u001b[0m\u001b[0;34m\u001b[0m\u001b[0;34m\u001b[0m\u001b[0m\n\u001b[0m\u001b[1;32m     32\u001b[0m \u001b[0;34m\u001b[0m\u001b[0m\n\u001b[1;32m     33\u001b[0m \u001b[0;32mfor\u001b[0m \u001b[0mcolumn\u001b[0m \u001b[0;32min\u001b[0m \u001b[0mnumeric_columns\u001b[0m\u001b[0;34m:\u001b[0m\u001b[0;34m\u001b[0m\u001b[0;34m\u001b[0m\u001b[0m\n",
            "\u001b[0;32m/usr/local/lib/python3.10/dist-packages/pandas/core/frame.py\u001b[0m in \u001b[0;36m__getitem__\u001b[0;34m(self, key)\u001b[0m\n\u001b[1;32m   3811\u001b[0m             \u001b[0;32mif\u001b[0m \u001b[0mis_iterator\u001b[0m\u001b[0;34m(\u001b[0m\u001b[0mkey\u001b[0m\u001b[0;34m)\u001b[0m\u001b[0;34m:\u001b[0m\u001b[0;34m\u001b[0m\u001b[0;34m\u001b[0m\u001b[0m\n\u001b[1;32m   3812\u001b[0m                 \u001b[0mkey\u001b[0m \u001b[0;34m=\u001b[0m \u001b[0mlist\u001b[0m\u001b[0;34m(\u001b[0m\u001b[0mkey\u001b[0m\u001b[0;34m)\u001b[0m\u001b[0;34m\u001b[0m\u001b[0;34m\u001b[0m\u001b[0m\n\u001b[0;32m-> 3813\u001b[0;31m             \u001b[0mindexer\u001b[0m \u001b[0;34m=\u001b[0m \u001b[0mself\u001b[0m\u001b[0;34m.\u001b[0m\u001b[0mcolumns\u001b[0m\u001b[0;34m.\u001b[0m\u001b[0m_get_indexer_strict\u001b[0m\u001b[0;34m(\u001b[0m\u001b[0mkey\u001b[0m\u001b[0;34m,\u001b[0m \u001b[0;34m\"columns\"\u001b[0m\u001b[0;34m)\u001b[0m\u001b[0;34m[\u001b[0m\u001b[0;36m1\u001b[0m\u001b[0;34m]\u001b[0m\u001b[0;34m\u001b[0m\u001b[0;34m\u001b[0m\u001b[0m\n\u001b[0m\u001b[1;32m   3814\u001b[0m \u001b[0;34m\u001b[0m\u001b[0m\n\u001b[1;32m   3815\u001b[0m         \u001b[0;31m# take() does not accept boolean indexers\u001b[0m\u001b[0;34m\u001b[0m\u001b[0;34m\u001b[0m\u001b[0m\n",
            "\u001b[0;32m/usr/local/lib/python3.10/dist-packages/pandas/core/indexes/base.py\u001b[0m in \u001b[0;36m_get_indexer_strict\u001b[0;34m(self, key, axis_name)\u001b[0m\n\u001b[1;32m   6068\u001b[0m             \u001b[0mkeyarr\u001b[0m\u001b[0;34m,\u001b[0m \u001b[0mindexer\u001b[0m\u001b[0;34m,\u001b[0m \u001b[0mnew_indexer\u001b[0m \u001b[0;34m=\u001b[0m \u001b[0mself\u001b[0m\u001b[0;34m.\u001b[0m\u001b[0m_reindex_non_unique\u001b[0m\u001b[0;34m(\u001b[0m\u001b[0mkeyarr\u001b[0m\u001b[0;34m)\u001b[0m\u001b[0;34m\u001b[0m\u001b[0;34m\u001b[0m\u001b[0m\n\u001b[1;32m   6069\u001b[0m \u001b[0;34m\u001b[0m\u001b[0m\n\u001b[0;32m-> 6070\u001b[0;31m         \u001b[0mself\u001b[0m\u001b[0;34m.\u001b[0m\u001b[0m_raise_if_missing\u001b[0m\u001b[0;34m(\u001b[0m\u001b[0mkeyarr\u001b[0m\u001b[0;34m,\u001b[0m \u001b[0mindexer\u001b[0m\u001b[0;34m,\u001b[0m \u001b[0maxis_name\u001b[0m\u001b[0;34m)\u001b[0m\u001b[0;34m\u001b[0m\u001b[0;34m\u001b[0m\u001b[0m\n\u001b[0m\u001b[1;32m   6071\u001b[0m \u001b[0;34m\u001b[0m\u001b[0m\n\u001b[1;32m   6072\u001b[0m         \u001b[0mkeyarr\u001b[0m \u001b[0;34m=\u001b[0m \u001b[0mself\u001b[0m\u001b[0;34m.\u001b[0m\u001b[0mtake\u001b[0m\u001b[0;34m(\u001b[0m\u001b[0mindexer\u001b[0m\u001b[0;34m)\u001b[0m\u001b[0;34m\u001b[0m\u001b[0;34m\u001b[0m\u001b[0m\n",
            "\u001b[0;32m/usr/local/lib/python3.10/dist-packages/pandas/core/indexes/base.py\u001b[0m in \u001b[0;36m_raise_if_missing\u001b[0;34m(self, key, indexer, axis_name)\u001b[0m\n\u001b[1;32m   6131\u001b[0m \u001b[0;34m\u001b[0m\u001b[0m\n\u001b[1;32m   6132\u001b[0m             \u001b[0mnot_found\u001b[0m \u001b[0;34m=\u001b[0m \u001b[0mlist\u001b[0m\u001b[0;34m(\u001b[0m\u001b[0mensure_index\u001b[0m\u001b[0;34m(\u001b[0m\u001b[0mkey\u001b[0m\u001b[0;34m)\u001b[0m\u001b[0;34m[\u001b[0m\u001b[0mmissing_mask\u001b[0m\u001b[0;34m.\u001b[0m\u001b[0mnonzero\u001b[0m\u001b[0;34m(\u001b[0m\u001b[0;34m)\u001b[0m\u001b[0;34m[\u001b[0m\u001b[0;36m0\u001b[0m\u001b[0;34m]\u001b[0m\u001b[0;34m]\u001b[0m\u001b[0;34m.\u001b[0m\u001b[0munique\u001b[0m\u001b[0;34m(\u001b[0m\u001b[0;34m)\u001b[0m\u001b[0;34m)\u001b[0m\u001b[0;34m\u001b[0m\u001b[0;34m\u001b[0m\u001b[0m\n\u001b[0;32m-> 6133\u001b[0;31m             \u001b[0;32mraise\u001b[0m \u001b[0mKeyError\u001b[0m\u001b[0;34m(\u001b[0m\u001b[0;34mf\"{not_found} not in index\"\u001b[0m\u001b[0;34m)\u001b[0m\u001b[0;34m\u001b[0m\u001b[0;34m\u001b[0m\u001b[0m\n\u001b[0m\u001b[1;32m   6134\u001b[0m \u001b[0;34m\u001b[0m\u001b[0m\n\u001b[1;32m   6135\u001b[0m     \u001b[0;34m@\u001b[0m\u001b[0moverload\u001b[0m\u001b[0;34m\u001b[0m\u001b[0;34m\u001b[0m\u001b[0m\n",
            "\u001b[0;31mKeyError\u001b[0m: \"['column1', 'column2'] not in index\""
          ]
        }
      ]
    }
  ]
}